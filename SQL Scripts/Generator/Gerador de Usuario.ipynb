{
 "cells": [
  {
   "cell_type": "code",
   "execution_count": 1,
   "metadata": {},
   "outputs": [],
   "source": [
    "import pandas as pd"
   ]
  },
  {
   "cell_type": "code",
   "execution_count": 2,
   "metadata": {},
   "outputs": [],
   "source": [
    "users = pd.read_json('tb_usuario.json')"
   ]
  },
  {
   "cell_type": "code",
   "execution_count": 3,
   "metadata": {},
   "outputs": [],
   "source": [
    "def ajusteData(dt):\n",
    "    return dt[6:]+'-'+dt[3:5]+'-'+dt[:2]\n",
    "\n",
    "users['DML'] = \"insert into tb_usuario values(\\\n",
    "    nextval('sq_usuario'),\\\n",
    "    '\"+users['nome']+\"',\\\n",
    "    '\"+users['email']+\"',\\\n",
    "    '\"+users['senha']+\"',\\\n",
    "    '\"+users['data_nasc'].apply(lambda x: ajusteData(x))+\"',\\\n",
    "    current_timestamp);\"\n"
   ]
  },
  {
   "cell_type": "code",
   "execution_count": 5,
   "metadata": {},
   "outputs": [],
   "source": [
    "with open('DML_tb_usuario.sql', 'w') as f:\n",
    "    f.write(\"insert into tb_usuario values(nextval('sq_usuario'), 'teste','teste','teste',current_date,current_timestamp); \\n\")\n",
    "    for i in users['DML']:\n",
    "        f.write(i + \"\\n\")"
   ]
  }
 ],
 "metadata": {
  "kernelspec": {
   "display_name": "Python 3.9.12 ('base')",
   "language": "python",
   "name": "python3"
  },
  "language_info": {
   "codemirror_mode": {
    "name": "ipython",
    "version": 3
   },
   "file_extension": ".py",
   "mimetype": "text/x-python",
   "name": "python",
   "nbconvert_exporter": "python",
   "pygments_lexer": "ipython3",
   "version": "3.9.12"
  },
  "orig_nbformat": 4,
  "vscode": {
   "interpreter": {
    "hash": "45e4065687c82a83b75b9c94d7b43e33652e81b54ebecd6e66eb503517304528"
   }
  }
 },
 "nbformat": 4,
 "nbformat_minor": 2
}
